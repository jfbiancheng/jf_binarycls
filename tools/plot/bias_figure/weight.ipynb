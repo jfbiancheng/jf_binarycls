{
 "cells": [
  {
   "cell_type": "code",
   "execution_count": 7,
   "source": [
    "%load_ext autoreload\n",
    "%autoreload 2\n",
    "import sys\n",
    "import torch\n",
    "sys.path.append('/workspace/S/jiangfei/BinaryNeuralNetwork_debug')"
   ],
   "outputs": [
    {
     "output_type": "stream",
     "name": "stdout",
     "text": [
      "The autoreload extension is already loaded. To reload it, use:\n",
      "  %reload_ext autoreload\n"
     ]
    }
   ],
   "metadata": {}
  },
  {
   "cell_type": "code",
   "execution_count": 11,
   "source": [
    "models = torch.load('/workspace/S/jiangfei/BinaryNeuralNetwork_debug/work_dirs/rprelu/react_a1/adreact_layerbs-1.2_step1/epoch_75.pth')\n",
    "w=[]\n",
    "models = models[\"state_dict\"]\n",
    "\n",
    "for name,weight in models.items():\n",
    "    if 'binary' in name:\n",
    "        w.append(weight)\n",
    "print(len(w))\n",
    "\n",
    "\n",
    "\n"
   ],
   "outputs": [
    {
     "output_type": "stream",
     "name": "stdout",
     "text": [
      "odict_keys(['backbone.conv1.conv.weight', 'backbone.conv1.bn.weight', 'backbone.conv1.bn.bias', 'backbone.conv1.bn.running_mean', 'backbone.conv1.bn.running_var', 'backbone.conv1.bn.num_batches_tracked', 'backbone.layer1.0.prelu1.bias1.bias', 'backbone.layer1.0.prelu1.bias2.bias', 'backbone.layer1.0.prelu1.prelu.weight', 'backbone.layer1.0.prelu2.bias1.bias', 'backbone.layer1.0.prelu2.bias2.bias', 'backbone.layer1.0.prelu2.prelu.weight', 'backbone.layer1.0.binary_3x3.weight', 'backbone.layer1.0.bn1.weight', 'backbone.layer1.0.bn1.bias', 'backbone.layer1.0.bn1.running_mean', 'backbone.layer1.0.bn1.running_var', 'backbone.layer1.0.bn1.num_batches_tracked', 'backbone.layer1.0.binary_pw_down1.weight', 'backbone.layer1.0.binary_pw_down2.weight', 'backbone.layer1.0.bn2_1.weight', 'backbone.layer1.0.bn2_1.bias', 'backbone.layer1.0.bn2_1.running_mean', 'backbone.layer1.0.bn2_1.running_var', 'backbone.layer1.0.bn2_1.num_batches_tracked', 'backbone.layer1.0.bn2_2.weight', 'backbone.layer1.0.bn2_2.bias', 'backbone.layer1.0.bn2_2.running_mean', 'backbone.layer1.0.bn2_2.running_var', 'backbone.layer1.0.bn2_2.num_batches_tracked', 'backbone.layer2.0.prelu1.bias1.bias', 'backbone.layer2.0.prelu1.bias2.bias', 'backbone.layer2.0.prelu1.prelu.weight', 'backbone.layer2.0.prelu2.bias1.bias', 'backbone.layer2.0.prelu2.bias2.bias', 'backbone.layer2.0.prelu2.prelu.weight', 'backbone.layer2.0.binary_3x3.weight', 'backbone.layer2.0.bn1.weight', 'backbone.layer2.0.bn1.bias', 'backbone.layer2.0.bn1.running_mean', 'backbone.layer2.0.bn1.running_var', 'backbone.layer2.0.bn1.num_batches_tracked', 'backbone.layer2.0.binary_pw_down1.weight', 'backbone.layer2.0.binary_pw_down2.weight', 'backbone.layer2.0.bn2_1.weight', 'backbone.layer2.0.bn2_1.bias', 'backbone.layer2.0.bn2_1.running_mean', 'backbone.layer2.0.bn2_1.running_var', 'backbone.layer2.0.bn2_1.num_batches_tracked', 'backbone.layer2.0.bn2_2.weight', 'backbone.layer2.0.bn2_2.bias', 'backbone.layer2.0.bn2_2.running_mean', 'backbone.layer2.0.bn2_2.running_var', 'backbone.layer2.0.bn2_2.num_batches_tracked', 'backbone.layer2.1.prelu1.bias1.bias', 'backbone.layer2.1.prelu1.bias2.bias', 'backbone.layer2.1.prelu1.prelu.weight', 'backbone.layer2.1.prelu2.bias1.bias', 'backbone.layer2.1.prelu2.bias2.bias', 'backbone.layer2.1.prelu2.prelu.weight', 'backbone.layer2.1.binary_3x3.weight', 'backbone.layer2.1.bn1.weight', 'backbone.layer2.1.bn1.bias', 'backbone.layer2.1.bn1.running_mean', 'backbone.layer2.1.bn1.running_var', 'backbone.layer2.1.bn1.num_batches_tracked', 'backbone.layer2.1.binary_pw.weight', 'backbone.layer2.1.bn2.weight', 'backbone.layer2.1.bn2.bias', 'backbone.layer2.1.bn2.running_mean', 'backbone.layer2.1.bn2.running_var', 'backbone.layer2.1.bn2.num_batches_tracked', 'backbone.layer3.0.prelu1.bias1.bias', 'backbone.layer3.0.prelu1.bias2.bias', 'backbone.layer3.0.prelu1.prelu.weight', 'backbone.layer3.0.prelu2.bias1.bias', 'backbone.layer3.0.prelu2.bias2.bias', 'backbone.layer3.0.prelu2.prelu.weight', 'backbone.layer3.0.binary_3x3.weight', 'backbone.layer3.0.bn1.weight', 'backbone.layer3.0.bn1.bias', 'backbone.layer3.0.bn1.running_mean', 'backbone.layer3.0.bn1.running_var', 'backbone.layer3.0.bn1.num_batches_tracked', 'backbone.layer3.0.binary_pw_down1.weight', 'backbone.layer3.0.binary_pw_down2.weight', 'backbone.layer3.0.bn2_1.weight', 'backbone.layer3.0.bn2_1.bias', 'backbone.layer3.0.bn2_1.running_mean', 'backbone.layer3.0.bn2_1.running_var', 'backbone.layer3.0.bn2_1.num_batches_tracked', 'backbone.layer3.0.bn2_2.weight', 'backbone.layer3.0.bn2_2.bias', 'backbone.layer3.0.bn2_2.running_mean', 'backbone.layer3.0.bn2_2.running_var', 'backbone.layer3.0.bn2_2.num_batches_tracked', 'backbone.layer3.1.prelu1.bias1.bias', 'backbone.layer3.1.prelu1.bias2.bias', 'backbone.layer3.1.prelu1.prelu.weight', 'backbone.layer3.1.prelu2.bias1.bias', 'backbone.layer3.1.prelu2.bias2.bias', 'backbone.layer3.1.prelu2.prelu.weight', 'backbone.layer3.1.binary_3x3.weight', 'backbone.layer3.1.bn1.weight', 'backbone.layer3.1.bn1.bias', 'backbone.layer3.1.bn1.running_mean', 'backbone.layer3.1.bn1.running_var', 'backbone.layer3.1.bn1.num_batches_tracked', 'backbone.layer3.1.binary_pw.weight', 'backbone.layer3.1.bn2.weight', 'backbone.layer3.1.bn2.bias', 'backbone.layer3.1.bn2.running_mean', 'backbone.layer3.1.bn2.running_var', 'backbone.layer3.1.bn2.num_batches_tracked', 'backbone.layer4.0.prelu1.bias1.bias', 'backbone.layer4.0.prelu1.bias2.bias', 'backbone.layer4.0.prelu1.prelu.weight', 'backbone.layer4.0.prelu2.bias1.bias', 'backbone.layer4.0.prelu2.bias2.bias', 'backbone.layer4.0.prelu2.prelu.weight', 'backbone.layer4.0.binary_3x3.weight', 'backbone.layer4.0.bn1.weight', 'backbone.layer4.0.bn1.bias', 'backbone.layer4.0.bn1.running_mean', 'backbone.layer4.0.bn1.running_var', 'backbone.layer4.0.bn1.num_batches_tracked', 'backbone.layer4.0.binary_pw_down1.weight', 'backbone.layer4.0.binary_pw_down2.weight', 'backbone.layer4.0.bn2_1.weight', 'backbone.layer4.0.bn2_1.bias', 'backbone.layer4.0.bn2_1.running_mean', 'backbone.layer4.0.bn2_1.running_var', 'backbone.layer4.0.bn2_1.num_batches_tracked', 'backbone.layer4.0.bn2_2.weight', 'backbone.layer4.0.bn2_2.bias', 'backbone.layer4.0.bn2_2.running_mean', 'backbone.layer4.0.bn2_2.running_var', 'backbone.layer4.0.bn2_2.num_batches_tracked', 'backbone.layer4.1.prelu1.bias1.bias', 'backbone.layer4.1.prelu1.bias2.bias', 'backbone.layer4.1.prelu1.prelu.weight', 'backbone.layer4.1.prelu2.bias1.bias', 'backbone.layer4.1.prelu2.bias2.bias', 'backbone.layer4.1.prelu2.prelu.weight', 'backbone.layer4.1.binary_3x3.weight', 'backbone.layer4.1.bn1.weight', 'backbone.layer4.1.bn1.bias', 'backbone.layer4.1.bn1.running_mean', 'backbone.layer4.1.bn1.running_var', 'backbone.layer4.1.bn1.num_batches_tracked', 'backbone.layer4.1.binary_pw.weight', 'backbone.layer4.1.bn2.weight', 'backbone.layer4.1.bn2.bias', 'backbone.layer4.1.bn2.running_mean', 'backbone.layer4.1.bn2.running_var', 'backbone.layer4.1.bn2.num_batches_tracked', 'backbone.layer4.2.prelu1.bias1.bias', 'backbone.layer4.2.prelu1.bias2.bias', 'backbone.layer4.2.prelu1.prelu.weight', 'backbone.layer4.2.prelu2.bias1.bias', 'backbone.layer4.2.prelu2.bias2.bias', 'backbone.layer4.2.prelu2.prelu.weight', 'backbone.layer4.2.binary_3x3.weight', 'backbone.layer4.2.bn1.weight', 'backbone.layer4.2.bn1.bias', 'backbone.layer4.2.bn1.running_mean', 'backbone.layer4.2.bn1.running_var', 'backbone.layer4.2.bn1.num_batches_tracked', 'backbone.layer4.2.binary_pw.weight', 'backbone.layer4.2.bn2.weight', 'backbone.layer4.2.bn2.bias', 'backbone.layer4.2.bn2.running_mean', 'backbone.layer4.2.bn2.running_var', 'backbone.layer4.2.bn2.num_batches_tracked', 'backbone.layer4.3.prelu1.bias1.bias', 'backbone.layer4.3.prelu1.bias2.bias', 'backbone.layer4.3.prelu1.prelu.weight', 'backbone.layer4.3.prelu2.bias1.bias', 'backbone.layer4.3.prelu2.bias2.bias', 'backbone.layer4.3.prelu2.prelu.weight', 'backbone.layer4.3.binary_3x3.weight', 'backbone.layer4.3.bn1.weight', 'backbone.layer4.3.bn1.bias', 'backbone.layer4.3.bn1.running_mean', 'backbone.layer4.3.bn1.running_var', 'backbone.layer4.3.bn1.num_batches_tracked', 'backbone.layer4.3.binary_pw.weight', 'backbone.layer4.3.bn2.weight', 'backbone.layer4.3.bn2.bias', 'backbone.layer4.3.bn2.running_mean', 'backbone.layer4.3.bn2.running_var', 'backbone.layer4.3.bn2.num_batches_tracked', 'backbone.layer4.4.prelu1.bias1.bias', 'backbone.layer4.4.prelu1.bias2.bias', 'backbone.layer4.4.prelu1.prelu.weight', 'backbone.layer4.4.prelu2.bias1.bias', 'backbone.layer4.4.prelu2.bias2.bias', 'backbone.layer4.4.prelu2.prelu.weight', 'backbone.layer4.4.binary_3x3.weight', 'backbone.layer4.4.bn1.weight', 'backbone.layer4.4.bn1.bias', 'backbone.layer4.4.bn1.running_mean', 'backbone.layer4.4.bn1.running_var', 'backbone.layer4.4.bn1.num_batches_tracked', 'backbone.layer4.4.binary_pw.weight', 'backbone.layer4.4.bn2.weight', 'backbone.layer4.4.bn2.bias', 'backbone.layer4.4.bn2.running_mean', 'backbone.layer4.4.bn2.running_var', 'backbone.layer4.4.bn2.num_batches_tracked', 'backbone.layer4.5.prelu1.bias1.bias', 'backbone.layer4.5.prelu1.bias2.bias', 'backbone.layer4.5.prelu1.prelu.weight', 'backbone.layer4.5.prelu2.bias1.bias', 'backbone.layer4.5.prelu2.bias2.bias', 'backbone.layer4.5.prelu2.prelu.weight', 'backbone.layer4.5.binary_3x3.weight', 'backbone.layer4.5.bn1.weight', 'backbone.layer4.5.bn1.bias', 'backbone.layer4.5.bn1.running_mean', 'backbone.layer4.5.bn1.running_var', 'backbone.layer4.5.bn1.num_batches_tracked', 'backbone.layer4.5.binary_pw.weight', 'backbone.layer4.5.bn2.weight', 'backbone.layer4.5.bn2.bias', 'backbone.layer4.5.bn2.running_mean', 'backbone.layer4.5.bn2.running_var', 'backbone.layer4.5.bn2.num_batches_tracked', 'backbone.layer5.0.prelu1.bias1.bias', 'backbone.layer5.0.prelu1.bias2.bias', 'backbone.layer5.0.prelu1.prelu.weight', 'backbone.layer5.0.prelu2.bias1.bias', 'backbone.layer5.0.prelu2.bias2.bias', 'backbone.layer5.0.prelu2.prelu.weight', 'backbone.layer5.0.binary_3x3.weight', 'backbone.layer5.0.bn1.weight', 'backbone.layer5.0.bn1.bias', 'backbone.layer5.0.bn1.running_mean', 'backbone.layer5.0.bn1.running_var', 'backbone.layer5.0.bn1.num_batches_tracked', 'backbone.layer5.0.binary_pw_down1.weight', 'backbone.layer5.0.binary_pw_down2.weight', 'backbone.layer5.0.bn2_1.weight', 'backbone.layer5.0.bn2_1.bias', 'backbone.layer5.0.bn2_1.running_mean', 'backbone.layer5.0.bn2_1.running_var', 'backbone.layer5.0.bn2_1.num_batches_tracked', 'backbone.layer5.0.bn2_2.weight', 'backbone.layer5.0.bn2_2.bias', 'backbone.layer5.0.bn2_2.running_mean', 'backbone.layer5.0.bn2_2.running_var', 'backbone.layer5.0.bn2_2.num_batches_tracked', 'backbone.layer5.1.prelu1.bias1.bias', 'backbone.layer5.1.prelu1.bias2.bias', 'backbone.layer5.1.prelu1.prelu.weight', 'backbone.layer5.1.prelu2.bias1.bias', 'backbone.layer5.1.prelu2.bias2.bias', 'backbone.layer5.1.prelu2.prelu.weight', 'backbone.layer5.1.binary_3x3.weight', 'backbone.layer5.1.bn1.weight', 'backbone.layer5.1.bn1.bias', 'backbone.layer5.1.bn1.running_mean', 'backbone.layer5.1.bn1.running_var', 'backbone.layer5.1.bn1.num_batches_tracked', 'backbone.layer5.1.binary_pw.weight', 'backbone.layer5.1.bn2.weight', 'backbone.layer5.1.bn2.bias', 'backbone.layer5.1.bn2.running_mean', 'backbone.layer5.1.bn2.running_var', 'backbone.layer5.1.bn2.num_batches_tracked', 'head.fc.weight', 'head.fc.bias'])\n"
     ]
    }
   ],
   "metadata": {}
  }
 ],
 "metadata": {
  "orig_nbformat": 4,
  "language_info": {
   "name": "python",
   "version": "3.7.10",
   "mimetype": "text/x-python",
   "codemirror_mode": {
    "name": "ipython",
    "version": 3
   },
   "pygments_lexer": "ipython3",
   "nbconvert_exporter": "python",
   "file_extension": ".py"
  },
  "kernelspec": {
   "name": "python3",
   "display_name": "Python 3.7.10 64-bit ('binarya100': conda)"
  },
  "interpreter": {
   "hash": "8e0b11e2e18f3b77346226a68c9683fc97017058e628785cd6481ed520bda584"
  }
 },
 "nbformat": 4,
 "nbformat_minor": 2
}